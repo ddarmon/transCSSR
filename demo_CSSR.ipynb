{
 "cells": [
  {
   "cell_type": "markdown",
   "metadata": {},
   "source": [
    "## A Demonstration of Estimating $\\epsilon$-machines using <tt>CSSR</tt> and Analyzing Their Information-Theoretic Properties "
   ]
  },
  {
   "cell_type": "code",
   "execution_count": 1,
   "metadata": {},
   "outputs": [],
   "source": [
    "# This line just makes plots visible in-notebook, rather than opening stand-alone windows.\n",
    "\n",
    "#%matplotlib nbagg"
   ]
  },
  {
   "cell_type": "markdown",
   "metadata": {},
   "source": [
    "We begin by loading in the required Python packages. In addition to the necessary packages listed on the GitHub page for <tt>transCSSR</tt>, you will also need [graphviz](http://graphviz.readthedocs.io/en/stable/manual.html) to visualize the $\\epsilon$-machines in-notebook, and [scikit-learn](http://scikit-learn.org/stable/) to compute the log-loss for selecting the appropriate lookback length."
   ]
  },
  {
   "cell_type": "code",
   "execution_count": 2,
   "metadata": {},
   "outputs": [],
   "source": [
    "from transCSSR import *\n",
    "import matplotlib.pyplot as plt\n",
    "\n",
    "import graphviz\n",
    "from sklearn.metrics import log_loss\n",
    "\n",
    "import itertools"
   ]
  },
  {
   "cell_type": "markdown",
   "metadata": {},
   "source": [
    "### Estimating the $\\epsilon$-Machine Using <tt>CSSR</tt>"
   ]
  },
  {
   "cell_type": "markdown",
   "metadata": {},
   "source": [
    "Next, we load in the data files. <tt>transCSSR</tt> was originally designed for inferring $\\epsilon$-transducers, so to infer an $\\epsilon$-machine, we fix the input stream as a constant. This is equivalent to the <tt>CSSR</tt> algorithm, which you can learn more about [here](http://bactra.org/CSSR/).\n",
    "\n",
    "The data files should be in the data directory, and should have a .dat file suffix. The time series should consist of single character symbols, with no spacing between symbols. See several of the extant files for examples."
   ]
  },
  {
   "cell_type": "code",
   "execution_count": 3,
   "metadata": {},
   "outputs": [],
   "source": [
    "# Yt is the output. Xt should be set to the null string.\n",
    "\n",
    "data_prefix = ''\n",
    "\n",
    "Yt_name = 'even'\n",
    "\n",
    "Xt_name = ''\n",
    "\n",
    "machine_fname = 'transCSSR_results/+.dot'\n",
    "transducer_fname = 'transCSSR_results/+{}.dot'.format(Yt_name)"
   ]
  },
  {
   "cell_type": "code",
   "execution_count": 4,
   "metadata": {},
   "outputs": [],
   "source": [
    "#%%%%%%%%%%%%%%%%%%%%%%%%%%%%%%%%%%%%%%%%%%%%%%%%%%\n",
    "#\n",
    "# Load in the data for each process.\n",
    "#\n",
    "#%%%%%%%%%%%%%%%%%%%%%%%%%%%%%%%%%%%%%%%%%%%%%%%%%%\n",
    "\n",
    "stringY = open('data/{}{}.dat'.format(data_prefix, Yt_name)).readline().strip()\n",
    "\n",
    "if Xt_name == '':\n",
    "\tstringX = '0'*len(stringY)\n",
    "else:\n",
    "\tstringX = open('data/{}{}.dat'.format(data_prefix, Xt_name)).readline().strip()"
   ]
  },
  {
   "cell_type": "markdown",
   "metadata": {},
   "source": [
    "Next we set several parameters for the <tt>transCSSR</tt> algorithm.\n",
    "\n",
    "* <tt>axs</tt> / <tt>axs</tt> correspond to the input / output alphabets of your data.\n",
    "\n",
    "* <tt>alpha</tt> specifies the level for the hypothesis test used to split histories with different distributions over their next-step-futures. That is, <tt>alpha</tt> specifies the probability that you would split two histories when you shouldn't (when the histories in fact have the same distribution over their next-step-futures), also known as the probability of a Type I error.\n",
    "\n",
    "* <tt>L_max_words</tt> specifies the largest lookback $L$ to use when estimating $P(X_{L+1} \\mid X_{1}^{L})$. These predictive probabilities will be estimated for all $L \\leq$ <tt>L_max_words</tt>.\n",
    "\n",
    "* <tt>L_max_CSSR</tt> specifies to what depth we considering splitting past histories. This parameter effects the [bias-variance](https://en.wikipedia.org/wiki/Bias–variance_tradeoff) tradeoff. A smaller <tt>L_max_CSSR</tt> will lead to a more stable estimate of the underlying $\\epsilon$-machine (low variance), but may not match the true $\\epsilon$-machine (high bias). A larger <tt>L_max_CSSR</tt> will lead to more highly variable estimates of the $\\epsilon$-machine (high variance), but will more closely approximate the true $\\epsilon$-machine (low bias)."
   ]
  },
  {
   "cell_type": "code",
   "execution_count": 5,
   "metadata": {},
   "outputs": [],
   "source": [
    "#%%%%%%%%%%%%%%%%%%%%%%%%%%%%%%%%%%%%%%%%%%%%%%%%%%\n",
    "#\n",
    "# Set the parameters and associated quantities:\n",
    "# \taxs, ays -- the input / output alphabets\n",
    "# \talpha    -- the significance level associated with\n",
    "# \t            CSSR's hypothesis tests.\n",
    "# \tL        -- The maximum history length to look\n",
    "#               back when inferring predictive\n",
    "#               distributions.\n",
    "#\n",
    "#%%%%%%%%%%%%%%%%%%%%%%%%%%%%%%%%%%%%%%%%%%%%%%%%%%\n",
    "\n",
    "axs = ['0']\n",
    "ays = ['0', '1']\n",
    "\n",
    "e_symbols = list(itertools.product(axs, ays)) # All of the possible pairs of emission\n",
    "                                              # symbols for (x, y)\n",
    "\n",
    "alpha = 0.001\n",
    "\n",
    "verbose = False\n",
    "\n",
    "# L is the maximum amount we want to ever look back.\n",
    "\n",
    "L_max_words = 5\n",
    "L_max_CSSR  = 5\n",
    "\n",
    "assert L_max_CSSR <= L_max_words, \"L_max_CSSR must be less than or equal to L_max_words\"\n",
    "\n",
    "inf_alg = 'transCSSR'\n",
    "\n",
    "Tx = len(stringX); Ty = len(stringY)\n",
    "\n",
    "assert Tx == Ty, 'The two time series must have the same length.'\n",
    "\n",
    "T = Tx"
   ]
  },
  {
   "cell_type": "markdown",
   "metadata": {},
   "source": [
    "We first to estimate the predictive distributions over all words using <tt>estimate_predictive_distributions</tt>, and then use these estimates to run the <tt>CSSR</tt> algorithm."
   ]
  },
  {
   "cell_type": "code",
   "execution_count": 6,
   "metadata": {},
   "outputs": [
    {
     "name": "stdout",
     "output_type": "stream",
     "text": [
      "The epsilon-transducer has 2 states.\n",
      "state = 1, x = 0, P(Yt | Xt, state) = [0.502957 0.497043]\n",
      "state = 3, x = 0, P(Yt | Xt, state) = [0. 1.]\n"
     ]
    }
   ],
   "source": [
    "word_lookup_marg, word_lookup_fut = estimate_predictive_distributions(stringX, stringY, L_max_words)\n",
    "\n",
    "epsilon, invepsilon, morph_by_state = run_transCSSR(word_lookup_marg, word_lookup_fut, L_max_CSSR, axs, ays, e_symbols, Xt_name, Yt_name, alpha = alpha, all_digits = True)\n",
    "\n",
    "print('The epsilon-transducer has {} states.'.format(len(invepsilon)))\n",
    "\n",
    "print_morph_by_states(morph_by_state, axs, ays, e_symbols)"
   ]
  },
  {
   "cell_type": "markdown",
   "metadata": {},
   "source": [
    "The output of <tt>CSSR</tt> is stored in the <tt>transCSSR_results</tt> results directory in dot files, which can be easily viewed using [graphviz](http://graphviz.readthedocs.io/en/stable/index.html)."
   ]
  },
  {
   "cell_type": "code",
   "execution_count": 7,
   "metadata": {},
   "outputs": [
    {
     "data": {
      "image/svg+xml": [
       "<?xml version=\"1.0\" encoding=\"UTF-8\" standalone=\"no\"?>\n",
       "<!DOCTYPE svg PUBLIC \"-//W3C//DTD SVG 1.1//EN\"\n",
       " \"http://www.w3.org/Graphics/SVG/1.1/DTD/svg11.dtd\">\n",
       "<!-- Generated by graphviz version 2.40.1 (20161225.0304)\n",
       " -->\n",
       "<!-- Title: %3 Pages: 1 -->\n",
       "<svg width=\"432pt\" height=\"546pt\"\n",
       " viewBox=\"0.00 0.00 432.00 545.64\" xmlns=\"http://www.w3.org/2000/svg\" xmlns:xlink=\"http://www.w3.org/1999/xlink\">\n",
       "<g id=\"graph0\" class=\"graph\" transform=\"scale(.8769 .8769) rotate(0) translate(4 618.2353)\">\n",
       "<title>%3</title>\n",
       "<polygon fill=\"#ffffff\" stroke=\"transparent\" points=\"-4,4 -4,-618.2353 488.6385,-618.2353 488.6385,4 -4,4\"/>\n",
       "<!-- A -->\n",
       "<g id=\"node1\" class=\"node\">\n",
       "<title>A</title>\n",
       "<ellipse fill=\"none\" stroke=\"#000000\" stroke-width=\"5\" cx=\"85.8973\" cy=\"-519\" rx=\"25\" ry=\"25\"/>\n",
       "<text text-anchor=\"middle\" x=\"85.8973\" y=\"-512.8\" font-family=\"CMU Serif Roman\" font-size=\"24.00\" fill=\"#000000\">A</text>\n",
       "</g>\n",
       "<!-- A&#45;&gt;A -->\n",
       "<g id=\"edge1\" class=\"edge\">\n",
       "<title>A&#45;&gt;A</title>\n",
       "<path fill=\"none\" stroke=\"#000000\" d=\"M94.5005,-542.2536C109.2855,-570.8469 128.6461,-563.0957 128.6461,-519 128.6461,-480.0718 113.5573,-469.4689 99.8483,-487.1914\"/>\n",
       "<polygon fill=\"#000000\" stroke=\"#000000\" points=\"96.8334,-485.4116 94.5005,-495.7464 102.7691,-489.1221 96.8334,-485.4116\"/>\n",
       "<text text-anchor=\"start\" x=\"128.6461\" y=\"-512.8\" font-family=\"CMU Serif Roman\" font-size=\"24.00\" fill=\"#000000\">0|0:0.5029570016095655</text>\n",
       "</g>\n",
       "<!-- B -->\n",
       "<g id=\"node2\" class=\"node\">\n",
       "<title>B</title>\n",
       "<ellipse fill=\"none\" stroke=\"#000000\" stroke-width=\"5\" cx=\"85.8973\" cy=\"-93\" rx=\"24.0833\" ry=\"24.0833\"/>\n",
       "<text text-anchor=\"middle\" x=\"85.8973\" y=\"-86.8\" font-family=\"CMU Serif Roman\" font-size=\"24.00\" fill=\"#000000\">B</text>\n",
       "</g>\n",
       "<!-- A&#45;&gt;B -->\n",
       "<g id=\"edge2\" class=\"edge\">\n",
       "<title>A&#45;&gt;B</title>\n",
       "<path fill=\"none\" stroke=\"#000000\" d=\"M70.5976,-499.1553C42.4697,-460.2808 -13.1742,-370.9109 2.8973,-291 15.4988,-228.343 48.4558,-160.7922 68.8466,-123.0133\"/>\n",
       "<polygon fill=\"#000000\" stroke=\"#000000\" points=\"72.0099,-124.5236 73.74,-114.071 65.8691,-121.1633 72.0099,-124.5236\"/>\n",
       "<text text-anchor=\"start\" x=\"2.8973\" y=\"-297.8\" font-family=\"CMU Serif Roman\" font-size=\"24.00\" fill=\"#000000\">1|0:0.4970429983904346</text>\n",
       "</g>\n",
       "<!-- B&#45;&gt;A -->\n",
       "<g id=\"edge3\" class=\"edge\">\n",
       "<title>B&#45;&gt;A</title>\n",
       "<path fill=\"none\" stroke=\"#000000\" d=\"M106.8927,-105.0236C158.339,-136.1991 284.1474,-223.7339 250.8973,-317 223.4278,-394.0518 152.5628,-462.9467 113.2266,-496.8278\"/>\n",
       "<polygon fill=\"#000000\" stroke=\"#000000\" points=\"110.7019,-494.3797 105.3382,-503.5165 115.229,-499.7187 110.7019,-494.3797\"/>\n",
       "<text text-anchor=\"start\" x=\"254.8973\" y=\"-297.8\" font-family=\"CMU Serif Roman\" font-size=\"24.00\" fill=\"#000000\">1|0:1.0</text>\n",
       "</g>\n",
       "</g>\n",
       "</svg>\n"
      ],
      "text/plain": [
       "<graphviz.files.Source at 0x7fbd934fac50>"
      ]
     },
     "execution_count": 7,
     "metadata": {},
     "output_type": "execute_result"
    }
   ],
   "source": [
    "graphviz.Source.from_file(transducer_fname)"
   ]
  },
  {
   "cell_type": "markdown",
   "metadata": {},
   "source": [
    "### Setting the Tuning Parameters for <tt>CSSR</tt> Using a Train-Test Split of the Data"
   ]
  },
  {
   "cell_type": "markdown",
   "metadata": {},
   "source": [
    "Above, we set <tt>L_max_CSSR</tt> arbitrarily. A more principled way to choose <tt>L_max_CSSR</tt> is via a [train/test split](https://en.wikipedia.org/wiki/Training,_test,_and_validation_sets), where we use half of our data to estimate the $\\epsilon$-machine, and then use the other half of the data to determine how well the estimated $\\epsilon$-machine describes the data. To determine how well the estimated $\\epsilon$-machine describes the data, we use the [log-loss](http://scikit-learn.org/stable/modules/model_evaluation.html#log-loss) between the estimated model and the observed testing data. Our goal is to choose the <tt>L_max_CSSR</tt> that **minimizes** the log-loss."
   ]
  },
  {
   "cell_type": "code",
   "execution_count": 8,
   "metadata": {
    "scrolled": true
   },
   "outputs": [
    {
     "name": "stdout",
     "output_type": "stream",
     "text": [
      "Using L = 1, the Log-Loss is 0.607381897476957.\n",
      "Using L = 2, the Log-Loss is 0.5501988953916355.\n",
      "Using L = 3, the Log-Loss is 0.4630862451864306.\n",
      "Using L = 4, the Log-Loss is 0.4630863091899897.\n",
      "Using L = 5, the Log-Loss is 0.46308698699511996.\n",
      "Train / Test split with log-loss chooses L_opt = 3\n"
     ]
    }
   ],
   "source": [
    "stringY_train = stringY[:len(stringY)//2]\n",
    "stringY_test  = stringY[len(stringY)//2:]\n",
    "\n",
    "stringX_train = '0'*len(stringY_train)\n",
    "stringX_test  = '0'*len(stringY_test)\n",
    "\n",
    "ays_lookup = {}\n",
    "y_labels = []\n",
    "\n",
    "for y_ind, y in enumerate(ays):\n",
    "    ays_lookup[y] = y_ind\n",
    "    y_labels.append(y_ind)\n",
    "\n",
    "arrayY = numpy.zeros(len(stringY_test), dtype = 'int16')\n",
    "\n",
    "for t, y in enumerate(stringY_test):\n",
    "    arrayY[t] = ays_lookup[y]\n",
    "\n",
    "word_lookup_marg, word_lookup_fut = estimate_predictive_distributions(stringX_train, stringY_train, L_max_words)\n",
    "\n",
    "log_loss_by_L = []\n",
    "\n",
    "Ls = range(1, L_max_CSSR+1)\n",
    "\n",
    "for L in Ls:\n",
    "    epsilon, invepsilon, morph_by_state = run_transCSSR(word_lookup_marg, word_lookup_fut, L, axs, ays, e_symbols, Xt_name, Yt_name, alpha = alpha, all_digits = True)\n",
    "    \n",
    "    try: # If we attempt to filter a forbidden past, filter_and_pred_probs will throw an error.\n",
    "        pred_probs_by_time, cur_states_by_time = filter_and_pred_probs(stringX_test, stringY_test, machine_fname, transducer_fname, axs, ays, inf_alg)\n",
    "        log_loss_by_L.append(log_loss(y_pred=pred_probs_by_time, y_true=arrayY, labels = y_labels))\n",
    "    except:\n",
    "        log_loss_by_L.append(numpy.nan)\n",
    "    \n",
    "    print('Using L = {}, the Log-Loss is {}.'.format(L, log_loss_by_L[-1]))\n",
    "\n",
    "L_opt = Ls[numpy.nanargmin(log_loss_by_L)]\n",
    "\n",
    "print('Train / Test split with log-loss chooses L_opt = {}'.format(L_opt))"
   ]
  },
  {
   "cell_type": "code",
   "execution_count": 9,
   "metadata": {},
   "outputs": [
    {
     "data": {
      "text/plain": [
       "(50000, 2)"
      ]
     },
     "execution_count": 9,
     "metadata": {},
     "output_type": "execute_result"
    }
   ],
   "source": [
    "pred_probs_by_time.shape"
   ]
  },
  {
   "cell_type": "code",
   "execution_count": 10,
   "metadata": {
    "scrolled": false
   },
   "outputs": [
    {
     "data": {
      "text/plain": [
       "Text(0, 0.5, 'Log-Loss(L)')"
      ]
     },
     "execution_count": 10,
     "metadata": {},
     "output_type": "execute_result"
    },
    {
     "data": {
      "image/png": "[encoded data removed]",
      "text/plain": [
       "<Figure size 432x288 with 1 Axes>"
      ]
     },
     "metadata": {
      "needs_background": "light"
     },
     "output_type": "display_data"
    }
   ],
   "source": [
    "plt.figure()\n",
    "plt.plot(Ls, log_loss_by_L)\n",
    "plt.xlabel('Maximum Lookback for Reconstruction (L)')\n",
    "plt.ylabel('Log-Loss(L)')"
   ]
  },
  {
   "cell_type": "markdown",
   "metadata": {},
   "source": [
    "Now we re-estimate the $\\epsilon$-machine using all of the data, with the <tt>L_max_CSSR</tt> chosen by the log-loss minimization."
   ]
  },
  {
   "cell_type": "code",
   "execution_count": 11,
   "metadata": {},
   "outputs": [],
   "source": [
    "word_lookup_marg, word_lookup_fut = estimate_predictive_distributions(stringX, stringY, L_opt)\n",
    "\n",
    "epsilon, invepsilon, morph_by_state = run_transCSSR(word_lookup_marg, word_lookup_fut, L_opt, axs, ays, e_symbols, Xt_name, Yt_name, alpha = alpha, all_digits = True)"
   ]
  },
  {
   "cell_type": "code",
   "execution_count": 12,
   "metadata": {},
   "outputs": [
    {
     "data": {
      "image/svg+xml": [
       "<?xml version=\"1.0\" encoding=\"UTF-8\" standalone=\"no\"?>\n",
       "<!DOCTYPE svg PUBLIC \"-//W3C//DTD SVG 1.1//EN\"\n",
       " \"http://www.w3.org/Graphics/SVG/1.1/DTD/svg11.dtd\">\n",
       "<!-- Generated by graphviz version 2.40.1 (20161225.0304)\n",
       " -->\n",
       "<!-- Title: %3 Pages: 1 -->\n",
       "<svg width=\"432pt\" height=\"551pt\"\n",
       " viewBox=\"0.00 0.00 432.00 550.59\" xmlns=\"http://www.w3.org/2000/svg\" xmlns:xlink=\"http://www.w3.org/1999/xlink\">\n",
       "<g id=\"graph0\" class=\"graph\" transform=\"scale(.8849 .8849) rotate(0) translate(4 618.2353)\">\n",
       "<title>%3</title>\n",
       "<polygon fill=\"#ffffff\" stroke=\"transparent\" points=\"-4,4 -4,-618.2353 484.2161,-618.2353 484.2161,4 -4,4\"/>\n",
       "<!-- A -->\n",
       "<g id=\"node1\" class=\"node\">\n",
       "<title>A</title>\n",
       "<ellipse fill=\"none\" stroke=\"#000000\" stroke-width=\"5\" cx=\"82.7922\" cy=\"-519\" rx=\"25\" ry=\"25\"/>\n",
       "<text text-anchor=\"middle\" x=\"82.7922\" y=\"-512.8\" font-family=\"CMU Serif Roman\" font-size=\"24.00\" fill=\"#000000\">A</text>\n",
       "</g>\n",
       "<!-- A&#45;&gt;A -->\n",
       "<g id=\"edge1\" class=\"edge\">\n",
       "<title>A&#45;&gt;A</title>\n",
       "<path fill=\"none\" stroke=\"#000000\" d=\"M91.3953,-542.2536C106.1804,-570.8469 125.5409,-563.0957 125.5409,-519 125.5409,-480.0718 110.4522,-469.4689 96.7432,-487.1914\"/>\n",
       "<polygon fill=\"#000000\" stroke=\"#000000\" points=\"93.7282,-485.4116 91.3953,-495.7464 99.6639,-489.1221 93.7282,-485.4116\"/>\n",
       "<text text-anchor=\"start\" x=\"125.5409\" y=\"-512.8\" font-family=\"CMU Serif Roman\" font-size=\"24.00\" fill=\"#000000\">0|0:0.503497338203347</text>\n",
       "</g>\n",
       "<!-- B -->\n",
       "<g id=\"node2\" class=\"node\">\n",
       "<title>B</title>\n",
       "<ellipse fill=\"none\" stroke=\"#000000\" stroke-width=\"5\" cx=\"82.7922\" cy=\"-93\" rx=\"24.0833\" ry=\"24.0833\"/>\n",
       "<text text-anchor=\"middle\" x=\"82.7922\" y=\"-86.8\" font-family=\"CMU Serif Roman\" font-size=\"24.00\" fill=\"#000000\">B</text>\n",
       "</g>\n",
       "<!-- A&#45;&gt;B -->\n",
       "<g id=\"edge2\" class=\"edge\">\n",
       "<title>A&#45;&gt;B</title>\n",
       "<path fill=\"none\" stroke=\"#000000\" d=\"M68.0458,-499.1141C40.9352,-460.1682 -12.6966,-370.6804 2.7922,-291 14.9226,-228.5963 46.6937,-160.9595 66.3527,-123.0961\"/>\n",
       "<polygon fill=\"#000000\" stroke=\"#000000\" points=\"69.51,-124.6119 71.0705,-114.1326 63.3156,-121.3516 69.51,-124.6119\"/>\n",
       "<text text-anchor=\"start\" x=\"2.7922\" y=\"-297.8\" font-family=\"CMU Serif Roman\" font-size=\"24.00\" fill=\"#000000\">1|0:0.49650266179665303</text>\n",
       "</g>\n",
       "<!-- B&#45;&gt;A -->\n",
       "<g id=\"edge3\" class=\"edge\">\n",
       "<title>B&#45;&gt;A</title>\n",
       "<path fill=\"none\" stroke=\"#000000\" d=\"M104.4922,-104.0876C159.853,-134.0195 299.4629,-220.7268 262.7922,-317 232.2257,-397.2475 153.5231,-465.8946 111.021,-498.5867\"/>\n",
       "<polygon fill=\"#000000\" stroke=\"#000000\" points=\"108.888,-495.8116 103.0282,-504.6385 113.1135,-501.3923 108.888,-495.8116\"/>\n",
       "<text text-anchor=\"start\" x=\"267.7922\" y=\"-297.8\" font-family=\"CMU Serif Roman\" font-size=\"24.00\" fill=\"#000000\">1|0:1.0</text>\n",
       "</g>\n",
       "</g>\n",
       "</svg>\n"
      ],
      "text/plain": [
       "<graphviz.files.Source at 0x7fbd93620dd0>"
      ]
     },
     "execution_count": 12,
     "metadata": {},
     "output_type": "execute_result"
    }
   ],
   "source": [
    "graphviz.Source.from_file(transducer_fname)"
   ]
  },
  {
   "cell_type": "markdown",
   "metadata": {},
   "source": [
    "### Computing Information- and Computation-theoretic Quantities from the $\\epsilon$-Machine"
   ]
  },
  {
   "cell_type": "markdown",
   "metadata": {},
   "source": [
    "Finally, we investigate some of the information- and computation-theoretic properties of the $\\epsilon$-machine. The algorithms for doing so can be found in:\n",
    "\n",
    "J. P. Crutchfield, C. J. Ellison, and P. M. Riechers, “Exact complexity: The spectral decomposition of intrinsic computation,” Physics Letters A, vol. 380, no. 9, pp. 998–1002, Mar. 2016. [arXiv](https://arxiv.org/abs/1309.3792)\n",
    "\n",
    "In particular, we compute various asymptotic properties:\n",
    "\n",
    "* The statistical complexity $C_{\\mu}$.\n",
    "* The entropy rate $h_{\\mu}$.\n",
    "* The excess entropy $\\mathbf{E}$.\n",
    "\n",
    "and various finite-$L$ properties:\n",
    "\n",
    "* The entropy of words of length $L$: $H[X_{1}^{L}]$\n",
    "* The conditional entropy using words of length $L-1$: $H[X_{L} \\mid X_{1}^{L-1}$]\n",
    "* The excess entropy between finite past-future blocks: $E(L) = I[X_{-L}^{-1} \\wedge X_{0}^{L-1}]$."
   ]
  },
  {
   "cell_type": "code",
   "execution_count": 13,
   "metadata": {},
   "outputs": [],
   "source": [
    "L_max_ict = 20\n",
    "\n",
    "HLs, hLs, hmu, ELs, E, Cmu, etas_matrix = compute_ict_measures(transducer_fname, ays, inf_alg, L_max = L_max_ict)"
   ]
  },
  {
   "cell_type": "code",
   "execution_count": 14,
   "metadata": {},
   "outputs": [
    {
     "name": "stdout",
     "output_type": "stream",
     "text": [
      "Cmu      = 0.9167299433492118\n",
      "H[X_{0}] = 0.9213803753262972\n",
      "hmu      = 0.668201088413029\n",
      "E        = 0.9167299433491786\n"
     ]
    }
   ],
   "source": [
    "print('Cmu      = {}\\nH[X_{{0}}] = {}\\nhmu      = {}\\nE        = {}'.format(Cmu, HLs[0], hmu, E))"
   ]
  },
  {
   "cell_type": "code",
   "execution_count": 15,
   "metadata": {
    "scrolled": false
   },
   "outputs": [
    {
     "data": {
      "text/plain": [
       "<matplotlib.legend.Legend at 0x7fbd939eb210>"
      ]
     },
     "execution_count": 15,
     "metadata": {},
     "output_type": "execute_result"
    },
    {
     "data": {
      "image/png": "[encoded data removed]",
      "text/plain": [
       "<Figure size 432x288 with 1 Axes>"
      ]
     },
     "metadata": {
      "needs_background": "light"
     },
     "output_type": "display_data"
    },
    {
     "data": {
      "image/png": "[encoded data removed]",
      "text/plain": [
       "<Figure size 432x288 with 1 Axes>"
      ]
     },
     "metadata": {
      "needs_background": "light"
     },
     "output_type": "display_data"
    }
   ],
   "source": [
    "from matplotlib.ticker import MaxNLocator\n",
    "\n",
    "fig = plt.figure()\n",
    "plt.plot(range(0, L_max_ict), hLs, '.')\n",
    "plt.axhline(hmu, color = 'red', linestyle = '--', label = '$h_{\\mu}$')\n",
    "plt.xlabel('Lookback $L$')\n",
    "plt.ylabel('$H[X_{0} \\mid X_{-L}^{-1}]$')\n",
    "ax = fig.gca(); ax.xaxis.set_major_locator(MaxNLocator(integer=True))\n",
    "plt.legend()\n",
    "\n",
    "fig = plt.figure()\n",
    "plt.plot(range(1, L_max_ict + 1), ELs, '.')\n",
    "plt.axhline(E, color = 'red', linestyle = '--', label = '$\\mathbf{E}$')\n",
    "plt.xlabel('Lookback $L$')\n",
    "plt.ylabel('$E(L) = I[X_{-L}^{-1} \\wedge X_{0}^{L-1}]$')\n",
    "ax = fig.gca(); ax.xaxis.set_major_locator(MaxNLocator(integer=True))\n",
    "plt.legend()"
   ]
  }
 ],
 "metadata": {
  "kernelspec": {
   "display_name": "Python 3",
   "language": "python",
   "name": "python3"
  },
  "language_info": {
   "codemirror_mode": {
    "name": "ipython",
    "version": 3
   },
   "file_extension": ".py",
   "mimetype": "text/x-python",
   "name": "python",
   "nbconvert_exporter": "python",
   "pygments_lexer": "ipython3",
   "version": "3.7.6"
  }
 },
 "nbformat": 4,
 "nbformat_minor": 2
}
